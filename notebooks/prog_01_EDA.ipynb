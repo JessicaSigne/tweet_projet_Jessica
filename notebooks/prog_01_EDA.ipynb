{
 "cells": [
  {
   "cell_type": "code",
   "execution_count": 1,
   "id": "acde10ca",
   "metadata": {},
   "outputs": [],
   "source": [
    "import pandas as pd\n",
    "import numpy as np\n",
    "import matplotlib.pyplot as plt"
   ]
  },
  {
   "cell_type": "markdown",
   "id": "90e49dbd",
   "metadata": {},
   "source": [
    "### Importation des données"
   ]
  },
  {
   "cell_type": "code",
   "execution_count": 2,
   "id": "c438b440",
   "metadata": {},
   "outputs": [
    {
     "data": {
      "application/vnd.microsoft.datawrangler.viewer.v0+json": {
       "columns": [
        {
         "name": "index",
         "rawType": "int64",
         "type": "integer"
        },
        {
         "name": "id",
         "rawType": "int64",
         "type": "integer"
        },
        {
         "name": "keyword",
         "rawType": "object",
         "type": "unknown"
        },
        {
         "name": "location",
         "rawType": "object",
         "type": "unknown"
        },
        {
         "name": "text",
         "rawType": "object",
         "type": "string"
        },
        {
         "name": "target",
         "rawType": "int64",
         "type": "integer"
        }
       ],
       "ref": "5dd6eaa7-3f93-4d12-9aff-fc5edbec19d7",
       "rows": [
        [
         "0",
         "1",
         null,
         null,
         "Our Deeds are the Reason of this #earthquake May ALLAH Forgive us all",
         "1"
        ],
        [
         "1",
         "4",
         null,
         null,
         "Forest fire near La Ronge Sask. Canada",
         "1"
        ],
        [
         "2",
         "5",
         null,
         null,
         "All residents asked to 'shelter in place' are being notified by officers. No other evacuation or shelter in place orders are expected",
         "1"
        ],
        [
         "3",
         "6",
         null,
         null,
         "13,000 people receive #wildfires evacuation orders in California ",
         "1"
        ],
        [
         "4",
         "7",
         null,
         null,
         "Just got sent this photo from Ruby #Alaska as smoke from #wildfires pours into a school ",
         "1"
        ],
        [
         "5",
         "8",
         null,
         null,
         "#RockyFire Update => California Hwy. 20 closed in both directions due to Lake County fire - #CAfire #wildfires",
         "1"
        ],
        [
         "6",
         "10",
         null,
         null,
         "#flood #disaster Heavy rain causes flash flooding of streets in Manitou, Colorado Springs areas",
         "1"
        ],
        [
         "7",
         "13",
         null,
         null,
         "I'm on top of the hill and I can see a fire in the woods...",
         "1"
        ],
        [
         "8",
         "14",
         null,
         null,
         "There's an emergency evacuation happening now in the building across the street",
         "1"
        ],
        [
         "9",
         "15",
         null,
         null,
         "I'm afraid that the tornado is coming to our area...",
         "1"
        ],
        [
         "10",
         "16",
         null,
         null,
         "Three people died from the heat wave so far",
         "1"
        ],
        [
         "11",
         "17",
         null,
         null,
         "Haha South Tampa is getting flooded hah- WAIT A SECOND I LIVE IN SOUTH TAMPA WHAT AM I GONNA DO WHAT AM I GONNA DO FVCK #flooding",
         "1"
        ],
        [
         "12",
         "18",
         null,
         null,
         "#raining #flooding #Florida #TampaBay #Tampa 18 or 19 days. I've lost count ",
         "1"
        ],
        [
         "13",
         "19",
         null,
         null,
         "#Flood in Bago Myanmar #We arrived Bago",
         "1"
        ],
        [
         "14",
         "20",
         null,
         null,
         "Damage to school bus on 80 in multi car crash #BREAKING ",
         "1"
        ],
        [
         "15",
         "23",
         null,
         null,
         "What's up man?",
         "0"
        ],
        [
         "16",
         "24",
         null,
         null,
         "I love fruits",
         "0"
        ],
        [
         "17",
         "25",
         null,
         null,
         "Summer is lovely",
         "0"
        ],
        [
         "18",
         "26",
         null,
         null,
         "My car is so fast",
         "0"
        ],
        [
         "19",
         "28",
         null,
         null,
         "What a goooooooaaaaaal!!!!!!",
         "0"
        ],
        [
         "20",
         "31",
         null,
         null,
         "this is ridiculous....",
         "0"
        ],
        [
         "21",
         "32",
         null,
         null,
         "London is cool ;)",
         "0"
        ],
        [
         "22",
         "33",
         null,
         null,
         "Love skiing",
         "0"
        ],
        [
         "23",
         "34",
         null,
         null,
         "What a wonderful day!",
         "0"
        ],
        [
         "24",
         "36",
         null,
         null,
         "LOOOOOOL",
         "0"
        ],
        [
         "25",
         "37",
         null,
         null,
         "No way...I can't eat that shit",
         "0"
        ],
        [
         "26",
         "38",
         null,
         null,
         "Was in NYC last week!",
         "0"
        ],
        [
         "27",
         "39",
         null,
         null,
         "Love my girlfriend",
         "0"
        ],
        [
         "28",
         "40",
         null,
         null,
         "Cooool :)",
         "0"
        ],
        [
         "29",
         "41",
         null,
         null,
         "Do you like pasta?",
         "0"
        ],
        [
         "30",
         "44",
         null,
         null,
         "The end!",
         "0"
        ],
        [
         "31",
         "48",
         "ablaze",
         "Birmingham",
         "@bbcmtd Wholesale Markets ablaze http://t.co/lHYXEOHY6C",
         "1"
        ],
        [
         "32",
         "49",
         "ablaze",
         "Est. September 2012 - Bristol",
         "We always try to bring the heavy. #metal #RT http://t.co/YAo1e0xngw",
         "0"
        ],
        [
         "33",
         "50",
         "ablaze",
         "AFRICA",
         "#AFRICANBAZE: Breaking news:Nigeria flag set ablaze in Aba. http://t.co/2nndBGwyEi",
         "1"
        ],
        [
         "34",
         "52",
         "ablaze",
         "Philadelphia, PA",
         "Crying out for more! Set me ablaze",
         "0"
        ],
        [
         "35",
         "53",
         "ablaze",
         "London, UK",
         "On plus side LOOK AT THE SKY LAST NIGHT IT WAS ABLAZE http://t.co/qqsmshaJ3N",
         "0"
        ],
        [
         "36",
         "54",
         "ablaze",
         "Pretoria",
         "@PhDSquares #mufc they've built so much hype around new acquisitions but I doubt they will set the EPL ablaze this season.",
         "0"
        ],
        [
         "37",
         "55",
         "ablaze",
         "World Wide!!",
         "INEC Office in Abia Set Ablaze - http://t.co/3ImaomknnA",
         "1"
        ],
        [
         "38",
         "56",
         "ablaze",
         null,
         "Barbados #Bridgetown JAMAICA ÛÒ Two cars set ablaze: SANTA CRUZ ÛÓ Head of the St Elizabeth Police Superintende...  http://t.co/wDUEaj8Q4J",
         "1"
        ],
        [
         "39",
         "57",
         "ablaze",
         "Paranaque City",
         "Ablaze for you Lord :D",
         "0"
        ],
        [
         "40",
         "59",
         "ablaze",
         "Live On Webcam",
         "Check these out: http://t.co/rOI2NSmEJJ http://t.co/3Tj8ZjiN21 http://t.co/YDUiXEfIpE http://t.co/LxTjc87KLS #nsfw",
         "0"
        ],
        [
         "41",
         "61",
         "ablaze",
         null,
         "on the outside you're ablaze and alive\nbut you're dead inside",
         "0"
        ],
        [
         "42",
         "62",
         "ablaze",
         "milky way",
         "Had an awesome time visiting the CFC head office the ancop site and ablaze. Thanks to Tita Vida for taking care of us ??",
         "0"
        ],
        [
         "43",
         "63",
         "ablaze",
         null,
         "SOOOO PUMPED FOR ABLAZE ???? @southridgelife",
         "0"
        ],
        [
         "44",
         "64",
         "ablaze",
         null,
         "I wanted to set Chicago ablaze with my preaching... But not my hotel! http://t.co/o9qknbfOFX",
         "0"
        ],
        [
         "45",
         "65",
         "ablaze",
         null,
         "I gained 3 followers in the last week. You? Know your stats and grow with http://t.co/TIyUliF5c6",
         "0"
        ],
        [
         "46",
         "66",
         "ablaze",
         "GREENSBORO,NORTH CAROLINA",
         "How the West was burned: Thousands of wildfires ablaze in California alone http://t.co/vl5TBR3wbr",
         "1"
        ],
        [
         "47",
         "67",
         "ablaze",
         null,
         "Building the perfect tracklist to life leave the streets ablaze",
         "0"
        ],
        [
         "48",
         "68",
         "ablaze",
         "Live On Webcam",
         "Check these out: http://t.co/rOI2NSmEJJ http://t.co/3Tj8ZjiN21 http://t.co/YDUiXEfIpE http://t.co/LxTjc87KLS #nsfw",
         "0"
        ],
        [
         "49",
         "71",
         "ablaze",
         "England.",
         "First night with retainers in. It's quite weird. Better get used to it; I have to wear them every single night for the next year at least.",
         "0"
        ]
       ],
       "shape": {
        "columns": 5,
        "rows": 7613
       }
      },
      "text/html": [
       "<div>\n",
       "<style scoped>\n",
       "    .dataframe tbody tr th:only-of-type {\n",
       "        vertical-align: middle;\n",
       "    }\n",
       "\n",
       "    .dataframe tbody tr th {\n",
       "        vertical-align: top;\n",
       "    }\n",
       "\n",
       "    .dataframe thead th {\n",
       "        text-align: right;\n",
       "    }\n",
       "</style>\n",
       "<table border=\"1\" class=\"dataframe\">\n",
       "  <thead>\n",
       "    <tr style=\"text-align: right;\">\n",
       "      <th></th>\n",
       "      <th>id</th>\n",
       "      <th>keyword</th>\n",
       "      <th>location</th>\n",
       "      <th>text</th>\n",
       "      <th>target</th>\n",
       "    </tr>\n",
       "  </thead>\n",
       "  <tbody>\n",
       "    <tr>\n",
       "      <th>0</th>\n",
       "      <td>1</td>\n",
       "      <td>NaN</td>\n",
       "      <td>NaN</td>\n",
       "      <td>Our Deeds are the Reason of this #earthquake M...</td>\n",
       "      <td>1</td>\n",
       "    </tr>\n",
       "    <tr>\n",
       "      <th>1</th>\n",
       "      <td>4</td>\n",
       "      <td>NaN</td>\n",
       "      <td>NaN</td>\n",
       "      <td>Forest fire near La Ronge Sask. Canada</td>\n",
       "      <td>1</td>\n",
       "    </tr>\n",
       "    <tr>\n",
       "      <th>2</th>\n",
       "      <td>5</td>\n",
       "      <td>NaN</td>\n",
       "      <td>NaN</td>\n",
       "      <td>All residents asked to 'shelter in place' are ...</td>\n",
       "      <td>1</td>\n",
       "    </tr>\n",
       "    <tr>\n",
       "      <th>3</th>\n",
       "      <td>6</td>\n",
       "      <td>NaN</td>\n",
       "      <td>NaN</td>\n",
       "      <td>13,000 people receive #wildfires evacuation or...</td>\n",
       "      <td>1</td>\n",
       "    </tr>\n",
       "    <tr>\n",
       "      <th>4</th>\n",
       "      <td>7</td>\n",
       "      <td>NaN</td>\n",
       "      <td>NaN</td>\n",
       "      <td>Just got sent this photo from Ruby #Alaska as ...</td>\n",
       "      <td>1</td>\n",
       "    </tr>\n",
       "    <tr>\n",
       "      <th>...</th>\n",
       "      <td>...</td>\n",
       "      <td>...</td>\n",
       "      <td>...</td>\n",
       "      <td>...</td>\n",
       "      <td>...</td>\n",
       "    </tr>\n",
       "    <tr>\n",
       "      <th>7608</th>\n",
       "      <td>10869</td>\n",
       "      <td>NaN</td>\n",
       "      <td>NaN</td>\n",
       "      <td>Two giant cranes holding a bridge collapse int...</td>\n",
       "      <td>1</td>\n",
       "    </tr>\n",
       "    <tr>\n",
       "      <th>7609</th>\n",
       "      <td>10870</td>\n",
       "      <td>NaN</td>\n",
       "      <td>NaN</td>\n",
       "      <td>@aria_ahrary @TheTawniest The out of control w...</td>\n",
       "      <td>1</td>\n",
       "    </tr>\n",
       "    <tr>\n",
       "      <th>7610</th>\n",
       "      <td>10871</td>\n",
       "      <td>NaN</td>\n",
       "      <td>NaN</td>\n",
       "      <td>M1.94 [01:04 UTC]?5km S of Volcano Hawaii. htt...</td>\n",
       "      <td>1</td>\n",
       "    </tr>\n",
       "    <tr>\n",
       "      <th>7611</th>\n",
       "      <td>10872</td>\n",
       "      <td>NaN</td>\n",
       "      <td>NaN</td>\n",
       "      <td>Police investigating after an e-bike collided ...</td>\n",
       "      <td>1</td>\n",
       "    </tr>\n",
       "    <tr>\n",
       "      <th>7612</th>\n",
       "      <td>10873</td>\n",
       "      <td>NaN</td>\n",
       "      <td>NaN</td>\n",
       "      <td>The Latest: More Homes Razed by Northern Calif...</td>\n",
       "      <td>1</td>\n",
       "    </tr>\n",
       "  </tbody>\n",
       "</table>\n",
       "<p>7613 rows × 5 columns</p>\n",
       "</div>"
      ],
      "text/plain": [
       "         id keyword location  \\\n",
       "0         1     NaN      NaN   \n",
       "1         4     NaN      NaN   \n",
       "2         5     NaN      NaN   \n",
       "3         6     NaN      NaN   \n",
       "4         7     NaN      NaN   \n",
       "...     ...     ...      ...   \n",
       "7608  10869     NaN      NaN   \n",
       "7609  10870     NaN      NaN   \n",
       "7610  10871     NaN      NaN   \n",
       "7611  10872     NaN      NaN   \n",
       "7612  10873     NaN      NaN   \n",
       "\n",
       "                                                   text  target  \n",
       "0     Our Deeds are the Reason of this #earthquake M...       1  \n",
       "1                Forest fire near La Ronge Sask. Canada       1  \n",
       "2     All residents asked to 'shelter in place' are ...       1  \n",
       "3     13,000 people receive #wildfires evacuation or...       1  \n",
       "4     Just got sent this photo from Ruby #Alaska as ...       1  \n",
       "...                                                 ...     ...  \n",
       "7608  Two giant cranes holding a bridge collapse int...       1  \n",
       "7609  @aria_ahrary @TheTawniest The out of control w...       1  \n",
       "7610  M1.94 [01:04 UTC]?5km S of Volcano Hawaii. htt...       1  \n",
       "7611  Police investigating after an e-bike collided ...       1  \n",
       "7612  The Latest: More Homes Razed by Northern Calif...       1  \n",
       "\n",
       "[7613 rows x 5 columns]"
      ]
     },
     "execution_count": 2,
     "metadata": {},
     "output_type": "execute_result"
    }
   ],
   "source": [
    "data = pd.read_csv(\"../data/tweet.csv\", sep=',')\n",
    "data"
   ]
  },
  {
   "cell_type": "markdown",
   "id": "6a48b8d7",
   "metadata": {},
   "source": [
    "##### Forme du dataframe"
   ]
  },
  {
   "cell_type": "code",
   "execution_count": 3,
   "id": "c206f781",
   "metadata": {},
   "outputs": [
    {
     "data": {
      "text/plain": [
       "(7613, 5)"
      ]
     },
     "execution_count": 3,
     "metadata": {},
     "output_type": "execute_result"
    }
   ],
   "source": [
    "data.shape"
   ]
  },
  {
   "cell_type": "code",
   "execution_count": 4,
   "id": "85b58b53",
   "metadata": {},
   "outputs": [
    {
     "data": {
      "text/plain": [
       "Index(['id', 'keyword', 'location', 'text', 'target'], dtype='object')"
      ]
     },
     "execution_count": 4,
     "metadata": {},
     "output_type": "execute_result"
    }
   ],
   "source": [
    "data.columns"
   ]
  },
  {
   "cell_type": "markdown",
   "id": "87e6d95b",
   "metadata": {},
   "source": [
    "#### Description des données"
   ]
  },
  {
   "cell_type": "code",
   "execution_count": 5,
   "id": "3e5617d1",
   "metadata": {},
   "outputs": [
    {
     "data": {
      "text/plain": [
       "dtype('O')"
      ]
     },
     "execution_count": 5,
     "metadata": {},
     "output_type": "execute_result"
    }
   ],
   "source": [
    "data['text'].dtypes"
   ]
  },
  {
   "cell_type": "code",
   "execution_count": 6,
   "id": "c123d249",
   "metadata": {},
   "outputs": [
    {
     "name": "stdout",
     "output_type": "stream",
     "text": [
      "<class 'pandas.core.frame.DataFrame'>\n",
      "RangeIndex: 7613 entries, 0 to 7612\n",
      "Data columns (total 5 columns):\n",
      " #   Column    Non-Null Count  Dtype \n",
      "---  ------    --------------  ----- \n",
      " 0   id        7613 non-null   int64 \n",
      " 1   keyword   7552 non-null   object\n",
      " 2   location  5080 non-null   object\n",
      " 3   text      7613 non-null   object\n",
      " 4   target    7613 non-null   int64 \n",
      "dtypes: int64(2), object(3)\n",
      "memory usage: 297.5+ KB\n"
     ]
    }
   ],
   "source": [
    "data.info()"
   ]
  },
  {
   "cell_type": "code",
   "execution_count": 7,
   "id": "3da34634",
   "metadata": {},
   "outputs": [
    {
     "data": {
      "application/vnd.microsoft.datawrangler.viewer.v0+json": {
       "columns": [
        {
         "name": "index",
         "rawType": "object",
         "type": "string"
        },
        {
         "name": "id",
         "rawType": "float64",
         "type": "float"
        },
        {
         "name": "target",
         "rawType": "float64",
         "type": "float"
        }
       ],
       "ref": "b8b821ec-6aa4-4b84-940e-09a327d96154",
       "rows": [
        [
         "count",
         "7613.0",
         "7613.0"
        ],
        [
         "mean",
         "5441.934848285827",
         "0.4296597924602653"
        ],
        [
         "std",
         "3137.1160896461174",
         "0.4950600449341301"
        ],
        [
         "min",
         "1.0",
         "0.0"
        ],
        [
         "25%",
         "2734.0",
         "0.0"
        ],
        [
         "50%",
         "5408.0",
         "0.0"
        ],
        [
         "75%",
         "8146.0",
         "1.0"
        ],
        [
         "max",
         "10873.0",
         "1.0"
        ]
       ],
       "shape": {
        "columns": 2,
        "rows": 8
       }
      },
      "text/html": [
       "<div>\n",
       "<style scoped>\n",
       "    .dataframe tbody tr th:only-of-type {\n",
       "        vertical-align: middle;\n",
       "    }\n",
       "\n",
       "    .dataframe tbody tr th {\n",
       "        vertical-align: top;\n",
       "    }\n",
       "\n",
       "    .dataframe thead th {\n",
       "        text-align: right;\n",
       "    }\n",
       "</style>\n",
       "<table border=\"1\" class=\"dataframe\">\n",
       "  <thead>\n",
       "    <tr style=\"text-align: right;\">\n",
       "      <th></th>\n",
       "      <th>id</th>\n",
       "      <th>target</th>\n",
       "    </tr>\n",
       "  </thead>\n",
       "  <tbody>\n",
       "    <tr>\n",
       "      <th>count</th>\n",
       "      <td>7613.000000</td>\n",
       "      <td>7613.00000</td>\n",
       "    </tr>\n",
       "    <tr>\n",
       "      <th>mean</th>\n",
       "      <td>5441.934848</td>\n",
       "      <td>0.42966</td>\n",
       "    </tr>\n",
       "    <tr>\n",
       "      <th>std</th>\n",
       "      <td>3137.116090</td>\n",
       "      <td>0.49506</td>\n",
       "    </tr>\n",
       "    <tr>\n",
       "      <th>min</th>\n",
       "      <td>1.000000</td>\n",
       "      <td>0.00000</td>\n",
       "    </tr>\n",
       "    <tr>\n",
       "      <th>25%</th>\n",
       "      <td>2734.000000</td>\n",
       "      <td>0.00000</td>\n",
       "    </tr>\n",
       "    <tr>\n",
       "      <th>50%</th>\n",
       "      <td>5408.000000</td>\n",
       "      <td>0.00000</td>\n",
       "    </tr>\n",
       "    <tr>\n",
       "      <th>75%</th>\n",
       "      <td>8146.000000</td>\n",
       "      <td>1.00000</td>\n",
       "    </tr>\n",
       "    <tr>\n",
       "      <th>max</th>\n",
       "      <td>10873.000000</td>\n",
       "      <td>1.00000</td>\n",
       "    </tr>\n",
       "  </tbody>\n",
       "</table>\n",
       "</div>"
      ],
      "text/plain": [
       "                 id      target\n",
       "count   7613.000000  7613.00000\n",
       "mean    5441.934848     0.42966\n",
       "std     3137.116090     0.49506\n",
       "min        1.000000     0.00000\n",
       "25%     2734.000000     0.00000\n",
       "50%     5408.000000     0.00000\n",
       "75%     8146.000000     1.00000\n",
       "max    10873.000000     1.00000"
      ]
     },
     "execution_count": 7,
     "metadata": {},
     "output_type": "execute_result"
    }
   ],
   "source": [
    "data.describe()"
   ]
  },
  {
   "cell_type": "markdown",
   "id": "1ae67220",
   "metadata": {},
   "source": [
    "##### Données manquantes"
   ]
  },
  {
   "cell_type": "code",
   "execution_count": 8,
   "id": "3820ba2d",
   "metadata": {},
   "outputs": [
    {
     "data": {
      "application/vnd.microsoft.datawrangler.viewer.v0+json": {
       "columns": [
        {
         "name": "index",
         "rawType": "object",
         "type": "string"
        },
        {
         "name": "0",
         "rawType": "int64",
         "type": "integer"
        }
       ],
       "ref": "f4096701-f45a-4c3e-bc67-3260f5aee242",
       "rows": [
        [
         "id",
         "0"
        ],
        [
         "keyword",
         "61"
        ],
        [
         "location",
         "2533"
        ],
        [
         "text",
         "0"
        ],
        [
         "target",
         "0"
        ]
       ],
       "shape": {
        "columns": 1,
        "rows": 5
       }
      },
      "text/plain": [
       "id             0\n",
       "keyword       61\n",
       "location    2533\n",
       "text           0\n",
       "target         0\n",
       "dtype: int64"
      ]
     },
     "execution_count": 8,
     "metadata": {},
     "output_type": "execute_result"
    }
   ],
   "source": [
    "data.isna().sum()"
   ]
  },
  {
   "cell_type": "markdown",
   "id": "63398e66",
   "metadata": {},
   "source": [
    "##### Doublons"
   ]
  },
  {
   "cell_type": "code",
   "execution_count": 9,
   "id": "ab471245",
   "metadata": {},
   "outputs": [
    {
     "data": {
      "text/plain": [
       "0"
      ]
     },
     "execution_count": 9,
     "metadata": {},
     "output_type": "execute_result"
    }
   ],
   "source": [
    "data.duplicated().sum()"
   ]
  },
  {
   "cell_type": "markdown",
   "id": "a1e2bc7e",
   "metadata": {},
   "source": [
    "#### Colonnes utiles"
   ]
  },
  {
   "cell_type": "markdown",
   "id": "d81d45a6",
   "metadata": {},
   "source": [
    "##### text : le contenu textuel du tweet\n",
    "##### target : la variable cible (0 = normal, 1 = catastrophe)"
   ]
  },
  {
   "cell_type": "code",
   "execution_count": 10,
   "id": "f372c6fe",
   "metadata": {},
   "outputs": [
    {
     "name": "stdout",
     "output_type": "stream",
     "text": [
      "Valeurs uniques de target : 2\n"
     ]
    }
   ],
   "source": [
    "print(\"Valeurs uniques de target :\", data['target'].nunique())"
   ]
  },
  {
   "cell_type": "code",
   "execution_count": 11,
   "id": "bbddbc34",
   "metadata": {},
   "outputs": [
    {
     "name": "stdout",
     "output_type": "stream",
     "text": [
      "target\n",
      "0    0.57034\n",
      "1    0.42966\n",
      "Name: proportion, dtype: float64\n"
     ]
    },
    {
     "data": {
      "text/plain": [
       "<Axes: title={'center': 'Répartition des classes'}, xlabel='target'>"
      ]
     },
     "execution_count": 11,
     "metadata": {},
     "output_type": "execute_result"
    },
    {
     "data": {
      "image/png": "[encoded data removed]",
      "text/plain": [
       "<Figure size 640x480 with 1 Axes>"
      ]
     },
     "metadata": {},
     "output_type": "display_data"
    }
   ],
   "source": [
    "print(data['target'].value_counts(normalize=True))\n",
    "data['target'].value_counts().plot(kind='bar', title='Répartition des classes')"
   ]
  },
  {
   "cell_type": "markdown",
   "id": "6e06669f",
   "metadata": {},
   "source": [
    "#### Incohérence et outliers"
   ]
  },
  {
   "cell_type": "code",
   "execution_count": 12,
   "id": "1eda3c41",
   "metadata": {},
   "outputs": [
    {
     "name": "stdout",
     "output_type": "stream",
     "text": [
      "Tweets dupliqués : 110\n"
     ]
    }
   ],
   "source": [
    "print(f\"Tweets dupliqués : {data['text'].duplicated().sum()}\")"
   ]
  },
  {
   "cell_type": "code",
   "execution_count": 13,
   "id": "9d96b9d7",
   "metadata": {},
   "outputs": [],
   "source": [
    "#suppression des doublons\n",
    "data['text'].drop_duplicates(inplace=True)"
   ]
  },
  {
   "cell_type": "code",
   "execution_count": 14,
   "id": "23e70e47",
   "metadata": {},
   "outputs": [
    {
     "name": "stdout",
     "output_type": "stream",
     "text": [
      "Tweets dupliqués : 110\n"
     ]
    }
   ],
   "source": [
    "#Revérification\n",
    "print(f\"Tweets dupliqués : {data['text'].duplicated().sum()}\")"
   ]
  },
  {
   "cell_type": "code",
   "execution_count": 15,
   "id": "272bac01",
   "metadata": {},
   "outputs": [
    {
     "data": {
      "text/plain": [
       "7613"
      ]
     },
     "execution_count": 15,
     "metadata": {},
     "output_type": "execute_result"
    }
   ],
   "source": [
    "len(data)"
   ]
  },
  {
   "cell_type": "code",
   "execution_count": 16,
   "id": "0bdcd3f2",
   "metadata": {},
   "outputs": [
    {
     "name": "stdout",
     "output_type": "stream",
     "text": [
      "count    7613.000000\n",
      "mean      101.037436\n",
      "std        33.781325\n",
      "min         7.000000\n",
      "25%        78.000000\n",
      "50%       107.000000\n",
      "75%       133.000000\n",
      "max       157.000000\n",
      "Name: text, dtype: float64\n"
     ]
    }
   ],
   "source": [
    "data_lenght = data['text'].apply(lambda x: len(str(x)))\n",
    "print(data_lenght.describe())"
   ]
  },
  {
   "cell_type": "markdown",
   "id": "4a1a66f4",
   "metadata": {},
   "source": [
    "##### On peut constater que les longueurs des textes sont très variantes les unes des autres. Avec un minimum de 7 caractères et un maximum de 157 caractères"
   ]
  },
  {
   "cell_type": "code",
   "execution_count": 17,
   "id": "5395fee6",
   "metadata": {},
   "outputs": [
    {
     "name": "stdout",
     "output_type": "stream",
     "text": [
      "text\n",
      "136    401\n",
      "139    275\n",
      "138    256\n",
      "140    218\n",
      "137    210\n",
      "135    191\n",
      "134    128\n",
      "133    114\n",
      "132    113\n",
      "130     91\n",
      "Name: count, dtype: int64\n"
     ]
    }
   ],
   "source": [
    "print(data_lenght.value_counts(dropna=False).head(10))"
   ]
  },
  {
   "cell_type": "code",
   "execution_count": 18,
   "id": "199eb814",
   "metadata": {},
   "outputs": [
    {
     "data": {
      "image/png": "[encoded data removed]",
      "text/plain": [
       "<Figure size 640x480 with 1 Axes>"
      ]
     },
     "metadata": {},
     "output_type": "display_data"
    }
   ],
   "source": [
    "data_lenght.hist(bins=50)\n",
    "plt.title(\"Distribution des longueurs de tweets\")\n",
    "plt.xlabel(\"Longueur du tweet\")\n",
    "plt.ylabel(\"Nombre de tweets\")\n",
    "plt.show()"
   ]
  },
  {
   "cell_type": "code",
   "execution_count": 19,
   "id": "0455bfcf",
   "metadata": {},
   "outputs": [
    {
     "name": "stdout",
     "output_type": "stream",
     "text": [
      "\n",
      "Tweet : So you have a new weapon that can cause un-imaginable destruction.\n",
      "Target : 1\n",
      "\n",
      "Tweet : The f$&amp;@ing things I do for #GISHWHES Just got soaked in a deluge going for pads and tampons. Thx @mishacollins @/@\n",
      "Target : 0\n",
      "\n",
      "Tweet : DT @georgegalloway: RT @Galloway4Mayor: ÛÏThe CoL police can catch a pickpocket in Liverpool Stree... http://t.co/vXIn1gOq4Q\n",
      "Target : 1\n",
      "\n",
      "Tweet : Aftershock back to school kick off was great. I want to thank everyone for making it possible. What a great night.\n",
      "Target : 0\n",
      "\n",
      "Tweet : in response to trauma Children of Addicts develop a defensive self - one that decreases vulnerability. (3\n",
      "Target : 0\n",
      "\n",
      "Tweet : @Calum5SOS you look like you got caught in a rainstorm this is amazing and disgusting at the same time\n",
      "Target : 0\n",
      "\n",
      "Tweet : my favorite lady came to our volunteer meeting\n",
      "hopefully joining her youth collision and i am excite http://t.co/Ij0wQ490cS\n",
      "Target : 1\n",
      "\n",
      "Tweet : @brianroemmele UX fail of EMV - people want to insert and remove quickly like a gas pump stripe reader. 1 person told me it crashed the POS\n",
      "Target : 1\n",
      "\n",
      "Tweet : Can't find my ariana grande shirt  this is a fucking tragedy\n",
      "Target : 0\n",
      "\n",
      "Tweet : The Murderous Story Of AmericaÛªs First Hijacking http://t.co/EYUGk6byxr\n",
      "Target : 1\n"
     ]
    }
   ],
   "source": [
    "# Afficher 10 tweets aléatoires\n",
    "sample = data[['text', 'target']].sample(10, random_state=42)\n",
    "for i, row in sample.iterrows():\n",
    "    print(f\"\\nTweet : {row['text']}\")\n",
    "    print(f\"Target : {row['target']}\")"
   ]
  },
  {
   "cell_type": "markdown",
   "id": "5caa5f7a",
   "metadata": {},
   "source": [
    "##### Cette partie permet d'observer une certaines incohérence entre la target et le tweet. Sachant qu'un target de 1 devrait afficher un tweet catastrophique et un target de 0 un tweet normal. La cible peut parfois être prévisible grâce à des termes présents dans le tweet, mais certaines restent encore imprévisibles."
   ]
  }
 ],
 "metadata": {
  "kernelspec": {
   "display_name": "Python 3",
   "language": "python",
   "name": "python3"
  },
  "language_info": {
   "codemirror_mode": {
    "name": "ipython",
    "version": 3
   },
   "file_extension": ".py",
   "mimetype": "text/x-python",
   "name": "python",
   "nbconvert_exporter": "python",
   "pygments_lexer": "ipython3",
   "version": "3.11.4"
  }
 },
 "nbformat": 4,
 "nbformat_minor": 5
}
